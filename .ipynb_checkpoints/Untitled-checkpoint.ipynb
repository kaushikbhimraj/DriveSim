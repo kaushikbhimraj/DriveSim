{
 "cells": [
  {
   "cell_type": "code",
   "execution_count": 47,
   "metadata": {},
   "outputs": [],
   "source": [
    "import numpy as np\n",
    "from sklearn import datasets\n",
    "from sklearn.pipeline import Pipeline\n",
    "from sklearn.preprocessing import StandardScaler\n",
    "from sklearn.svm import LinearSVC\n",
    "\n",
    "path   = r'/Users/KaushikBhimraj/Desktop/Merged1_Data.csv'\n",
    "\n",
    "I    = [[line.split(',')[0], line.split(',')[1]] for line in open(path) if line[0:1] != '\\n'][1:]\n",
    "data = np.array([[float(val[0]), float(val[1])] for val in I])    \n",
    "\n",
    "T    = [line.split(',')[2] for line in open(path) if line[0:1] != '\\n'][1:]\n",
    "Tar  = np.array([float(1) if y == \"Distracted\\n\" else float(0) for y in T])\n",
    "\n",
    "svm_clf = Pipeline([(\"scaler\", StandardScaler()), (\"linear_svc\", LinearSVC(C=1, loss=\"hinge\"))])\n",
    "\n",
    "svm_clf.fit(data, Tar)"
   ]
  },
  {
   "cell_type": "code",
   "execution_count": null,
   "metadata": {},
   "outputs": [],
   "source": []
  }
 ],
 "metadata": {
  "kernelspec": {
   "display_name": "Python 3",
   "language": "python",
   "name": "python3"
  },
  "language_info": {
   "codemirror_mode": {
    "name": "ipython",
    "version": 3
   },
   "file_extension": ".py",
   "mimetype": "text/x-python",
   "name": "python",
   "nbconvert_exporter": "python",
   "pygments_lexer": "ipython3",
   "version": "3.7.0"
  }
 },
 "nbformat": 4,
 "nbformat_minor": 2
}
