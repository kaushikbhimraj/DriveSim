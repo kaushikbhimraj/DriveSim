{
 "cells": [
  {
   "cell_type": "code",
   "execution_count": 27,
   "metadata": {},
   "outputs": [
    {
     "name": "stdout",
     "output_type": "stream",
     "text": [
      "['0.735404292' '1.339811683' '1.560050571' ... '1.68484298' '1.68484298'\n",
      " '1.647293668'] ['Distracted\\n' 'Distracted\\n' 'Distracted\\n' 'Distracted\\n'\n",
      " 'Distracted\\n' 'Distracted\\n' 'Distracted\\n' 'Distracted\\n'\n",
      " 'Distracted\\n' 'Distracted\\n'] [1 1 1 1 1 1 1 1 1 1]\n"
     ]
    }
   ],
   "source": [
    "\"\"\"\n",
    "Experimenting with support vector machines\n",
    "\"\"\"\n",
    "# The following is \n",
    "import numpy as np\n",
    "\n",
    "# Reading from the csv file.\n",
    "path = r'C:\\Users\\kaush\\Desktop\\Merged_Data.csv'\n",
    "\n",
    "# List comprehension used to create numpy arrays for electrodes and targets.\n",
    "Beta   = np.array([line.split(',')[0] for line in open(path) if line[0:1] != '\\n'])\n",
    "Delta  = np.array([line.split(',')[1] for line in open(path) if line[0:1] != '\\n'])\n",
    "Target = np.array([line.split(',')[2] for line in open(path) if line[0:1] != '\\n'])\n",
    "\n",
    "# Converting Target to 0 or 1 format.\n",
    "Target = np.array([1 if y == \"Distracted\\n\" else 0 for y in Target])\n",
    "\n",
    "print(Beta[1000:1010], Delta[1000:1010], Target[1000:1010])"
   ]
  },
  {
   "cell_type": "code",
   "execution_count": null,
   "metadata": {},
   "outputs": [],
   "source": []
  }
 ],
 "metadata": {
  "kernelspec": {
   "display_name": "Python 3",
   "language": "python",
   "name": "python3"
  },
  "language_info": {
   "codemirror_mode": {
    "name": "ipython",
    "version": 3
   },
   "file_extension": ".py",
   "mimetype": "text/x-python",
   "name": "python",
   "nbconvert_exporter": "python",
   "pygments_lexer": "ipython3",
   "version": "3.7.1"
  }
 },
 "nbformat": 4,
 "nbformat_minor": 2
}
